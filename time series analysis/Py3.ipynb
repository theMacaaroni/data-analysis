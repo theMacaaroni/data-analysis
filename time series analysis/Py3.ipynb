{
 "cells": [
  {
   "cell_type": "markdown",
   "metadata": {
    "collapsed": true
   },
   "source": [
    "# Analysis of Time Data from Tech Forum \n",
    "\n",
    "### Introduction\n",
    "\n",
    "This guided project showcases how to work with strings, dates, times and object-orientated programming (OOP).\n",
    "\n",
    "We'll introduce the `datetime` module to work with date and time data. The dataset we will be analyzing is from submissions to a site called Hacker News.\n",
    "\n",
    "It is a platform where users *post* stories that can receive votes and comments. Posts that gain traction appear at the top of the site listings which can attract many more visitors. \n",
    "\n",
    "The original dataset contained about 300,000 rows. We will work with a slice of data, approximately 20,000 rows, provided by Dataquest. They cleaned the data by 'removing all submissions that didn't receive any comments and then randomly sampling from the remaining submissions.\n",
    "\n",
    "Users title posts 'Ask HN' when asking a specific question or 'Show HN' to show a project, product, or something recreational.\n",
    "\n",
    "We will find what type of posts recieve more comments on average and at what time user interaction is more likely.\n",
    "\n",
    "### Dataset Description:\n",
    "\n",
    "**id**: the unique post identifier\n",
    "\n",
    "**title**: post title\n",
    "\n",
    "**url**: the URL that the posts links to, if the post has a URL\n",
    "\n",
    "**num_points**: net votes (total number of upvotes minus the total number of downvotes)\n",
    "\n",
    "**num_comments**: the number of comments on the post\n",
    "\n",
    "**author**: the username of the person who submitted the post\n",
    "\n",
    "**created_at**: the date and time of the post's submission"
   ]
  },
  {
   "cell_type": "code",
   "execution_count": 1,
   "metadata": {},
   "outputs": [],
   "source": [
    "import datetime as dt\n",
    "from csv import reader"
   ]
  },
  {
   "cell_type": "markdown",
   "metadata": {},
   "source": [
    "### Read in Data and Create List of Lists"
   ]
  },
  {
   "cell_type": "code",
   "execution_count": 2,
   "metadata": {},
   "outputs": [
    {
     "name": "stdout",
     "output_type": "stream",
     "text": [
      "[['id', 'title', 'url', 'num_points', 'num_comments', 'author', 'created_at'], ['12224879', 'Interactive Dynamic Video', 'http://www.interactivedynamicvideo.com/', '386', '52', 'ne0phyte', '8/4/2016 11:52'], ['10975351', 'How to Use Open Source and Shut the Fuck Up at the Same Time', 'http://hueniverse.com/2016/01/26/how-to-use-open-source-and-shut-the-fuck-up-at-the-same-time/', '39', '10', 'josep2', '1/26/2016 19:30']]\n"
     ]
    }
   ],
   "source": [
    "file = open('hacker_news.csv')\n",
    "file_reader = reader(file)\n",
    "hack_h = list(file_reader) # list with header row\n",
    "print(hack_h[:3])"
   ]
  },
  {
   "cell_type": "markdown",
   "metadata": {},
   "source": [
    "Remove the header row and assign it to the variable `header`, and the rest of the dataset to `hack`."
   ]
  },
  {
   "cell_type": "code",
   "execution_count": 3,
   "metadata": {},
   "outputs": [
    {
     "name": "stdout",
     "output_type": "stream",
     "text": [
      "['id', 'title', 'url', 'num_points', 'num_comments', 'author', 'created_at']\n",
      "['12224879', 'Interactive Dynamic Video', 'http://www.interactivedynamicvideo.com/', '386', '52', 'ne0phyte', '8/4/2016 11:52']\n"
     ]
    }
   ],
   "source": [
    "header = hack_h[0]\n",
    "print(header)\n",
    "hack = hack_h[1:]\n",
    "print(hack[0])"
   ]
  },
  {
   "cell_type": "markdown",
   "metadata": {},
   "source": [
    "### Extracting 'Ask HN' and 'Show HN' Posts\n",
    "The different types of posts need to be isolated to find which had more comments on average.\n",
    "\n",
    "Begin by intializing three empty lists titled `ask_posts`, `show_posts`, and `other_posts`.\n",
    "\n",
    "Loop over the `hack` dataset and find the submissions that are titled 'Ask HN' and 'Show HN'. \n",
    "\n",
    "We will utilize the attribute `string.startswith()` to filter posts with our conditions. \n",
    "\n",
    "Using the `string.lower()` attribute will aid in simplyfing the search."
   ]
  },
  {
   "cell_type": "code",
   "execution_count": 4,
   "metadata": {},
   "outputs": [
    {
     "name": "stdout",
     "output_type": "stream",
     "text": [
      "Total ask posts:  1744 \n",
      " Total show posts:  1162 \n",
      " Other Posts:  17194\n"
     ]
    }
   ],
   "source": [
    "ask_posts = []\n",
    "show_posts = []\n",
    "other_posts = []\n",
    "\n",
    "for row in hack:\n",
    "    \n",
    "    title = row[1] # assign the title element in the dataset to the variable 'title'\n",
    "    lowc = title.lower() # apply the .lower() method to return the lowercase version of string\n",
    "    \n",
    "    if lowc.startswith('ask hn'):\n",
    "        ask_posts.append(row)\n",
    "        \n",
    "    elif lowc.startswith('show hn'):\n",
    "        show_posts.append(row)\n",
    "        \n",
    "    else:\n",
    "        other_posts.append(row)\n",
    "\n",
    "print(\n",
    "    'Total ask posts: ', len(ask_posts), '\\n',\n",
    "    'Total show posts: ', len(show_posts), '\\n',\n",
    "    'Other Posts: ', len(other_posts)\n",
    "     )"
   ]
  },
  {
   "cell_type": "markdown",
   "metadata": {},
   "source": [
    "### Calculating the Average Number of Comments for Ask HN and Show HN Posts\n",
    "We have filtered the appropriate types of posts into respective lists. \n",
    "   Total ask posts:  1744 \n",
    "   Total show posts:  1162 \n",
    "   Other Posts:  17194\n",
    "\n",
    "Now we will determine which type of post, on average, received more comments. \n",
    "\n",
    "We will do this by iterating over appropriate list and summing all the comments each post had.\n",
    "\n",
    "Let's begin with the 'Ask HN' posts."
   ]
  },
  {
   "cell_type": "code",
   "execution_count": 5,
   "metadata": {},
   "outputs": [
    {
     "name": "stdout",
     "output_type": "stream",
     "text": [
      "Total 'ask' comments: 24,483\n",
      "Average 'ask post' comments: 14.04\n"
     ]
    }
   ],
   "source": [
    "total_ask_comments = 0 # this variable will start the sum for the total number of comments\n",
    "\n",
    "for row in ask_posts:\n",
    "\n",
    "    comments = int(row[4]) # assign the integer value of the num_comments column to the variable comments \n",
    "    total_ask_comments += comments # begin the summation\n",
    "    \n",
    "print(f\"Total 'ask' comments: {total_ask_comments:,}\")\n",
    "\n",
    "avg_ask_comments = total_ask_comments / len(ask_posts) # Find the average by diving total no. of comments by total posts\n",
    "\n",
    "print(f\"Average 'ask post' comments: {avg_ask_comments:.2f}\")"
   ]
  },
  {
   "cell_type": "markdown",
   "metadata": {},
   "source": [
    "Now do the same for the show posts."
   ]
  },
  {
   "cell_type": "code",
   "execution_count": 6,
   "metadata": {},
   "outputs": [
    {
     "name": "stdout",
     "output_type": "stream",
     "text": [
      "Total 'show' comments: 11,988\n",
      "Average 'show post' comments: 10.32\n"
     ]
    }
   ],
   "source": [
    "total_show_comments = 0\n",
    "\n",
    "for row in show_posts:\n",
    "\n",
    "    comm = int(row[4])\n",
    "    total_show_comments += comm\n",
    "    \n",
    "print(f\"Total 'show' comments: {total_show_comments:,}\")\n",
    "\n",
    "avg_show_comments = total_show_comments / len(show_posts)\n",
    "\n",
    "print(f\"Average 'show post' comments: {avg_show_comments:.2f}\")"
   ]
  },
  {
   "cell_type": "markdown",
   "metadata": {},
   "source": [
    "### Finding the Number of Ask Posts and Comments per Hour\n",
    "Comparing the average number of post comments we find that 'ask' posts has on average 1.4 times more comments.  \n",
    "\n",
    "The average number of comments is 14 comments for ask posts versus 10 comments for show posts. \n",
    "\n",
    "We can see that 'ask' posts are more likely to recieve comments than 'show' posts, so we will only focus on 'ask' posts for now.\n",
    "\n",
    "Intialize a list to store lists of time post created and its no. of comments."
   ]
  },
  {
   "cell_type": "code",
   "execution_count": 7,
   "metadata": {},
   "outputs": [
    {
     "name": "stdout",
     "output_type": "stream",
     "text": [
      "[['8/16/2016 9:55', 6], ['11/22/2015 13:43', 29], ['5/2/2016 10:14', 1]]\n"
     ]
    }
   ],
   "source": [
    "result_list = []\n",
    "\n",
    "for row in ask_posts:\n",
    "    \n",
    "    created = row[6] # assign the date and time column to the variable created\n",
    "    num_comments = int(row[4]) # assign the number of comments the post recieved to the variable num_comments\n",
    "    comment_info = [created, num_comments] # make a list of the previous two variables\n",
    "    result_list.append(comment_info)\n",
    "\n",
    "print(result_list[:3])"
   ]
  },
  {
   "cell_type": "markdown",
   "metadata": {},
   "source": [
    "    Calculate the number of ask posts created in each hour of the day, along with the number of comments received."
   ]
  },
  {
   "cell_type": "code",
   "execution_count": 8,
   "metadata": {},
   "outputs": [
    {
     "name": "stdout",
     "output_type": "stream",
     "text": [
      "{'09': 251, '13': 1253, '10': 793, '14': 1416, '16': 1814, '23': 543, '12': 687, '17': 1146, '15': 4477, '21': 1745, '20': 1722, '02': 1381, '18': 1439, '03': 421, '05': 464, '19': 1188, '01': 683, '22': 479, '08': 492, '04': 337, '00': 447, '06': 397, '07': 267, '11': 641} \n",
      " {'09': 45, '13': 85, '10': 59, '14': 107, '16': 108, '23': 68, '12': 73, '17': 100, '15': 116, '21': 109, '20': 80, '02': 58, '18': 109, '03': 54, '05': 46, '19': 110, '01': 60, '22': 71, '08': 48, '04': 47, '00': 55, '06': 44, '07': 34, '11': 58}\n"
     ]
    }
   ],
   "source": [
    "posts_p_hour = {}\n",
    "comments_p_hour = {}\n",
    "    \n",
    "for row in result_list: # iterate over the list of lists that stores the datetime and no. of comments for each post\n",
    "    \n",
    "    date = row[0] # assign the date data to the variable date\n",
    "    hour = dt.datetime.strptime(date, \"%m/%d/%Y %H:%M\") # dt.datetime.strptime() method extracts the date info into appropriate format\n",
    "    hour = hour.strftime(\"%H\") # datetime.strftime() method extracts the hour from the previous formatted date\n",
    "    \n",
    "    if hour not in posts_p_hour: # counts the number of posts /hr while summing the no. of comments for each post /hr\n",
    "        posts_p_hour[hour] = 1 \n",
    "        comments_p_hour[hour] = row[1]\n",
    "    else:\n",
    "        posts_p_hour[hour] += 1\n",
    "        comments_p_hour[hour] += row[1]\n",
    "        \n",
    "print(comments_p_hour, '\\n', posts_p_hour)"
   ]
  },
  {
   "cell_type": "markdown",
   "metadata": {},
   "source": [
    "### Find the Average Number of Comments Ask Posts Receive by Hour. "
   ]
  },
  {
   "cell_type": "code",
   "execution_count": 9,
   "metadata": {},
   "outputs": [
    {
     "name": "stdout",
     "output_type": "stream",
     "text": [
      "[['00', 8.127272727272727], ['01', 11.383333333333333], ['02', 23.810344827586206], ['03', 7.796296296296297], ['04', 7.170212765957447], ['05', 10.08695652173913], ['06', 9.022727272727273], ['07', 7.852941176470588], ['08', 10.25], ['09', 5.5777777777777775], ['10', 13.440677966101696], ['11', 11.051724137931034], ['12', 9.41095890410959], ['13', 14.741176470588234], ['14', 13.233644859813085], ['15', 38.5948275862069], ['16', 16.796296296296298], ['17', 11.46], ['18', 13.20183486238532], ['19', 10.8], ['20', 21.525], ['21', 16.009174311926607], ['22', 6.746478873239437], ['23', 7.985294117647059]]\n"
     ]
    }
   ],
   "source": [
    "avg_by_hour = []\n",
    "\n",
    "for hour in comments_p_hour:\n",
    "    \n",
    "    num_comm = comments_p_hour[hour]\n",
    "    num_posts = posts_p_hour[hour]\n",
    "    \n",
    "    avg = num_comm / num_posts\n",
    "    \n",
    "    avg_by_hour.append([hour, avg])\n",
    "\n",
    "print(sorted(avg_by_hour))"
   ]
  },
  {
   "cell_type": "markdown",
   "metadata": {},
   "source": [
    "### Sorting and Printing Values from List of Lists\n",
    "Create a list that reverses the columns in `avg_by_hour`. \n",
    "\n",
    "As seen above, the `sorted()` function returns a sorted list using the first index. \n",
    "\n",
    "We would like to see in descending order the hours with the highest average number of comments.\n",
    "\n",
    "    Swap the columns."
   ]
  },
  {
   "cell_type": "code",
   "execution_count": 10,
   "metadata": {},
   "outputs": [
    {
     "name": "stdout",
     "output_type": "stream",
     "text": [
      "[[5.5777777777777775, '09'], [14.741176470588234, '13'], [13.440677966101696, '10'], [13.233644859813085, '14'], [16.796296296296298, '16'], [7.985294117647059, '23']]\n"
     ]
    }
   ],
   "source": [
    "swap_columns = []\n",
    "\n",
    "for row in avg_by_hour:\n",
    "    swap_columns.append([row[1], row[0]])\n",
    "    \n",
    "print(swap_columns[:6])"
   ]
  },
  {
   "cell_type": "markdown",
   "metadata": {},
   "source": [
    "    Sort `swap_columns` in descending order and print the first five entries."
   ]
  },
  {
   "cell_type": "code",
   "execution_count": 11,
   "metadata": {},
   "outputs": [
    {
     "name": "stdout",
     "output_type": "stream",
     "text": [
      "Top 5 Hours for Ask Posts Comments\n",
      "15:00: 38.59 average comments per post\n",
      "02:00: 23.81 average comments per post\n",
      "20:00: 21.52 average comments per post\n",
      "16:00: 16.80 average comments per post\n",
      "21:00: 16.01 average comments per post\n",
      "13:00: 14.74 average comments per post\n"
     ]
    }
   ],
   "source": [
    "sorted_swap = sorted(swap_columns, reverse = True)\n",
    "\n",
    "print('Top 5 Hours for Ask Posts Comments')\n",
    "\n",
    "for row in sorted_swap[:6]:\n",
    "    \n",
    "    hour = dt.datetime.strptime(row[1], \"%H\") # return a datetime object from the hour index\n",
    "    hour = hour.strftime(\"%H:%M\") # utilizing the .strftime() method to specify the time format\n",
    "    comments = row[0]\n",
    "    \n",
    "    print(f\"{hour}: {comments:.2f} average comments per post\")"
   ]
  },
  {
   "cell_type": "markdown",
   "metadata": {},
   "source": [
    "The average amount of comments per post, for the top five hours for Ask posts comments, is found above. \n",
    "\n",
    "Note that the original dataset contains these timeframes in EDT and we need them in CDT. \n",
    "\n",
    "eg. 11am Central is 12pm Eastern.\n",
    "\n",
    "Modify the previous loop to include this conversion. We could also go to the beginning and begin our dataset with already converted timeframes."
   ]
  },
  {
   "cell_type": "code",
   "execution_count": 12,
   "metadata": {},
   "outputs": [
    {
     "name": "stdout",
     "output_type": "stream",
     "text": [
      "Top 5 Hours for Ask Posts Comments\n",
      "14:00: 38.59 average comments per post\n",
      "01:00: 23.81 average comments per post\n",
      "19:00: 21.52 average comments per post\n",
      "15:00: 16.80 average comments per post\n",
      "20:00: 16.01 average comments per post\n",
      "12:00: 14.74 average comments per post\n"
     ]
    }
   ],
   "source": [
    "print('Top 5 Hours for Ask Posts Comments')\n",
    "\n",
    "for row in sorted_swap[:6]:\n",
    "    hour = dt.datetime.strptime(row[1], \"%H\")\n",
    "    hour = hour - dt.timedelta(hours=1)\n",
    "    hour = hour.strftime(\"%H:%M\")\n",
    "    comments = row[0]\n",
    "    print(f\"{hour}: {comments:.2f} average comments per post\")"
   ]
  },
  {
   "cell_type": "markdown",
   "metadata": {},
   "source": [
    "This works nicely for the top 5 hours, however pay attention to how the 0th hour becomes the 23rd hour. We shall delve into this at a later time."
   ]
  },
  {
   "cell_type": "markdown",
   "metadata": {},
   "source": [
    "### Conclusion\n",
    "\n",
    "We wanted to find the the number of posts and comments per hour and average comments per post per hour from the dataset sourced from the site Hacker News.\n",
    "\n",
    "For loops, dictionaries and the `datetime` module were utilized to sort, format and analyze the data. \n",
    "\n",
    "The findings show that posts that begin with 'Ask HN' receive more posts and number of comments than posts starting with 'Show HN'.\n",
    "\n",
    "An inference can be made that users are more prone to ask for help from the community and given the higher number of comments, other users more often share the same question.\n",
    "\n",
    "In CDT, it was found that the top three hours for average comments per post were 2pm, 12am, and 7pm.\n",
    "\n",
    "### Further Analysis\n",
    "(return to)\n",
    "Let's delve deeper into the data set and gain more insight from the following:\n",
    "\n",
    "    Determine if show or ask posts receive more points on average.\n",
    "    Determine if posts created at a certain time are more likely to receive more points.\n",
    "    Compare your results to the average number of comments and points other posts receive."
   ]
  }
 ],
 "metadata": {
  "kernelspec": {
   "display_name": "Python 3 (ipykernel)",
   "language": "python",
   "name": "python3"
  },
  "language_info": {
   "codemirror_mode": {
    "name": "ipython",
    "version": 3
   },
   "file_extension": ".py",
   "mimetype": "text/x-python",
   "name": "python",
   "nbconvert_exporter": "python",
   "pygments_lexer": "ipython3",
   "version": "3.11.0"
  }
 },
 "nbformat": 4,
 "nbformat_minor": 2
}
